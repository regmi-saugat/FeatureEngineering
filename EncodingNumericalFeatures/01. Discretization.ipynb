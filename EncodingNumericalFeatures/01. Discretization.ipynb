{
 "cells": [
  {
   "cell_type": "markdown",
   "id": "e1a088c3",
   "metadata": {},
   "source": [
    "## Technique to convert numerical into categorical values:\n",
    "    - Discretization (Binning)\n",
    "    - Binarization\n",
    "    \n",
    "### 1. Discretization (Binnig)\n",
    "    Discretization is the process of transforming continuous variables into discrete variables by creating a set of contiguous intervals that span the range of the variable’s values. Discretization is also called binning, where bin is an alternative name for interval.\n",
    "    \n",
    "        Why to use Binning?\n",
    "             - To handle Outliers \n",
    "             - To improve the value spread\n",
    "   \n",
    "       Types of Binning\n",
    "           i. Unsupervised Binning:\n",
    "               - Equal Width(Uniform) Binning\n",
    "               - Equal frequency (quantile) Binning\n",
    "               - Kmean Binning\n",
    "           ii. Supervised Binnig:\n",
    "               - Decision Tree Binning\n",
    "           iii. Custom Binning\n",
    "   "
   ]
  },
  {
   "cell_type": "code",
   "execution_count": 1,
   "id": "4e6a0a36",
   "metadata": {},
   "outputs": [],
   "source": [
    "#@ Importing the required libraries and dependencies\n",
    "import numpy as np\n",
    "import pandas as pd\n",
    "import matplotlib.pyplot as plt\n",
    "from sklearn.model_selection import train_test_split\n",
    "from sklearn.model_selection import cross_val_score\n",
    "from sklearn.tree import DecisionTreeClassifier\n",
    "from sklearn.metrics import accuracy_score\n",
    "from sklearn.preprocessing import KBinsDiscretizer\n",
    "from sklearn.compose import ColumnTransformer"
   ]
  },
  {
   "cell_type": "code",
   "execution_count": 2,
   "id": "bc8c7d16",
   "metadata": {},
   "outputs": [
    {
     "name": "stdout",
     "output_type": "stream",
     "text": [
      "The shape of data is (714, 3)\n"
     ]
    },
    {
     "data": {
      "text/html": [
       "<div>\n",
       "<style scoped>\n",
       "    .dataframe tbody tr th:only-of-type {\n",
       "        vertical-align: middle;\n",
       "    }\n",
       "\n",
       "    .dataframe tbody tr th {\n",
       "        vertical-align: top;\n",
       "    }\n",
       "\n",
       "    .dataframe thead th {\n",
       "        text-align: right;\n",
       "    }\n",
       "</style>\n",
       "<table border=\"1\" class=\"dataframe\">\n",
       "  <thead>\n",
       "    <tr style=\"text-align: right;\">\n",
       "      <th></th>\n",
       "      <th>Survived</th>\n",
       "      <th>Age</th>\n",
       "      <th>Fare</th>\n",
       "    </tr>\n",
       "  </thead>\n",
       "  <tbody>\n",
       "    <tr>\n",
       "      <th>0</th>\n",
       "      <td>0</td>\n",
       "      <td>22.0</td>\n",
       "      <td>7.2500</td>\n",
       "    </tr>\n",
       "    <tr>\n",
       "      <th>1</th>\n",
       "      <td>1</td>\n",
       "      <td>38.0</td>\n",
       "      <td>71.2833</td>\n",
       "    </tr>\n",
       "    <tr>\n",
       "      <th>2</th>\n",
       "      <td>1</td>\n",
       "      <td>26.0</td>\n",
       "      <td>7.9250</td>\n",
       "    </tr>\n",
       "    <tr>\n",
       "      <th>3</th>\n",
       "      <td>1</td>\n",
       "      <td>35.0</td>\n",
       "      <td>53.1000</td>\n",
       "    </tr>\n",
       "    <tr>\n",
       "      <th>4</th>\n",
       "      <td>0</td>\n",
       "      <td>35.0</td>\n",
       "      <td>8.0500</td>\n",
       "    </tr>\n",
       "  </tbody>\n",
       "</table>\n",
       "</div>"
      ],
      "text/plain": [
       "   Survived   Age     Fare\n",
       "0         0  22.0   7.2500\n",
       "1         1  38.0  71.2833\n",
       "2         1  26.0   7.9250\n",
       "3         1  35.0  53.1000\n",
       "4         0  35.0   8.0500"
      ]
     },
     "execution_count": 2,
     "metadata": {},
     "output_type": "execute_result"
    }
   ],
   "source": [
    "#@ Loading the dataset\n",
    "data = pd.read_csv('titanic.csv', usecols = ['Age', 'Fare', 'Survived'])\n",
    "data.dropna(inplace = True)\n",
    "print(f'The shape of data is {data.shape}')\n",
    "data.head()"
   ]
  },
  {
   "cell_type": "markdown",
   "id": "9216f9bb",
   "metadata": {},
   "source": [
    "### Without applying any binning"
   ]
  },
  {
   "cell_type": "code",
   "execution_count": 3,
   "id": "3c2a7dda",
   "metadata": {},
   "outputs": [
    {
     "data": {
      "text/html": [
       "<div>\n",
       "<style scoped>\n",
       "    .dataframe tbody tr th:only-of-type {\n",
       "        vertical-align: middle;\n",
       "    }\n",
       "\n",
       "    .dataframe tbody tr th {\n",
       "        vertical-align: top;\n",
       "    }\n",
       "\n",
       "    .dataframe thead th {\n",
       "        text-align: right;\n",
       "    }\n",
       "</style>\n",
       "<table border=\"1\" class=\"dataframe\">\n",
       "  <thead>\n",
       "    <tr style=\"text-align: right;\">\n",
       "      <th></th>\n",
       "      <th>Age</th>\n",
       "      <th>Fare</th>\n",
       "    </tr>\n",
       "  </thead>\n",
       "  <tbody>\n",
       "    <tr>\n",
       "      <th>328</th>\n",
       "      <td>31.0</td>\n",
       "      <td>20.5250</td>\n",
       "    </tr>\n",
       "    <tr>\n",
       "      <th>73</th>\n",
       "      <td>26.0</td>\n",
       "      <td>14.4542</td>\n",
       "    </tr>\n",
       "    <tr>\n",
       "      <th>253</th>\n",
       "      <td>30.0</td>\n",
       "      <td>16.1000</td>\n",
       "    </tr>\n",
       "    <tr>\n",
       "      <th>719</th>\n",
       "      <td>33.0</td>\n",
       "      <td>7.7750</td>\n",
       "    </tr>\n",
       "    <tr>\n",
       "      <th>666</th>\n",
       "      <td>25.0</td>\n",
       "      <td>13.0000</td>\n",
       "    </tr>\n",
       "  </tbody>\n",
       "</table>\n",
       "</div>"
      ],
      "text/plain": [
       "      Age     Fare\n",
       "328  31.0  20.5250\n",
       "73   26.0  14.4542\n",
       "253  30.0  16.1000\n",
       "719  33.0   7.7750\n",
       "666  25.0  13.0000"
      ]
     },
     "execution_count": 3,
     "metadata": {},
     "output_type": "execute_result"
    }
   ],
   "source": [
    "#@ applying train/test/split\n",
    "X = data.iloc[:,1:]\n",
    "y = data.iloc[:,0]\n",
    "X_train, X_test, y_train, y_test = train_test_split(X, y, test_size = 0.2, random_state = 42)\n",
    "X_train.head()"
   ]
  },
  {
   "cell_type": "code",
   "execution_count": 4,
   "id": "f9b246ba",
   "metadata": {},
   "outputs": [
    {
     "name": "stdout",
     "output_type": "stream",
     "text": [
      "The accuracy score is 0.6433566433566433\n"
     ]
    }
   ],
   "source": [
    "clf = DecisionTreeClassifier()             # creating an object\n",
    "clf.fit(X_train, y_train)                  # training the model\n",
    "y_pred = clf.predict(X_test)\n",
    "acc = accuracy_score(y_test, y_pred)       # calculating the accuracy\n",
    "print(f'The accuracy score is {acc}')"
   ]
  },
  {
   "cell_type": "code",
   "execution_count": 5,
   "id": "50ded60e",
   "metadata": {},
   "outputs": [
    {
     "name": "stdout",
     "output_type": "stream",
     "text": [
      "The accuracy using cross/val/score is 0.6330790297339594\n"
     ]
    }
   ],
   "source": [
    "#@ using cross/val/score\n",
    "cro_acc = np.mean(cross_val_score(DecisionTreeClassifier(), X, y, cv = 10, scoring = 'accuracy'))\n",
    "print(f'The accuracy using cross/val/score is {cro_acc}')"
   ]
  },
  {
   "cell_type": "markdown",
   "id": "594aa2ea",
   "metadata": {},
   "source": [
    "### applying Binning technique"
   ]
  },
  {
   "cell_type": "code",
   "execution_count": 6,
   "id": "8a0a6baf",
   "metadata": {},
   "outputs": [],
   "source": [
    "#@ first stategy using 'quantile'\n",
    "kbin_age = KBinsDiscretizer(n_bins=15, encode='ordinal', strategy='quantile')\n",
    "kbin_fare = KBinsDiscretizer(n_bins=15, encode='ordinal', strategy='quantile')"
   ]
  },
  {
   "cell_type": "code",
   "execution_count": 7,
   "id": "cf6ef8b7",
   "metadata": {},
   "outputs": [],
   "source": [
    "#@ creating column transformer\n",
    "trf = ColumnTransformer([\n",
    "    ('first', kbin_age,[0]),\n",
    "    ('second', kbin_fare, [1])\n",
    "])"
   ]
  },
  {
   "cell_type": "code",
   "execution_count": 8,
   "id": "2410facc",
   "metadata": {},
   "outputs": [],
   "source": [
    "#@ transforming xtrain & xtest and putting into the variable\n",
    "X_train_trf = trf.fit_transform(X_train)\n",
    "X_test_trf = trf.transform(X_test)"
   ]
  },
  {
   "cell_type": "code",
   "execution_count": 9,
   "id": "3501d3dd",
   "metadata": {},
   "outputs": [
    {
     "data": {
      "text/plain": [
       "array([15])"
      ]
     },
     "execution_count": 9,
     "metadata": {},
     "output_type": "execute_result"
    }
   ],
   "source": [
    "#@ Exploring using attributes \n",
    "trf.named_transformers_['second'].n_bins_"
   ]
  },
  {
   "cell_type": "code",
   "execution_count": 10,
   "id": "f4134414",
   "metadata": {},
   "outputs": [
    {
     "data": {
      "text/plain": [
       "array([array([  0.    ,   7.25  ,   7.775 ,   7.8958,   8.1583,  10.5   ,\n",
       "               13.    ,  14.4542,  18.75  ,  26.    ,  26.55  ,  31.275 ,\n",
       "               51.4792,  76.2917, 108.9   , 512.3292])                   ],\n",
       "      dtype=object)"
      ]
     },
     "execution_count": 10,
     "metadata": {},
     "output_type": "execute_result"
    }
   ],
   "source": [
    "trf.named_transformers_['second'].bin_edges_"
   ]
  },
  {
   "cell_type": "code",
   "execution_count": 11,
   "id": "a58fbda1",
   "metadata": {},
   "outputs": [
    {
     "data": {
      "text/html": [
       "<div>\n",
       "<style scoped>\n",
       "    .dataframe tbody tr th:only-of-type {\n",
       "        vertical-align: middle;\n",
       "    }\n",
       "\n",
       "    .dataframe tbody tr th {\n",
       "        vertical-align: top;\n",
       "    }\n",
       "\n",
       "    .dataframe thead th {\n",
       "        text-align: right;\n",
       "    }\n",
       "</style>\n",
       "<table border=\"1\" class=\"dataframe\">\n",
       "  <thead>\n",
       "    <tr style=\"text-align: right;\">\n",
       "      <th></th>\n",
       "      <th>age</th>\n",
       "      <th>age_trf</th>\n",
       "      <th>fare</th>\n",
       "      <th>fare_trf</th>\n",
       "      <th>age_labels</th>\n",
       "      <th>fare_labels</th>\n",
       "    </tr>\n",
       "  </thead>\n",
       "  <tbody>\n",
       "    <tr>\n",
       "      <th>360</th>\n",
       "      <td>40.0</td>\n",
       "      <td>11.0</td>\n",
       "      <td>27.9000</td>\n",
       "      <td>10.0</td>\n",
       "      <td>(38.0, 42.0]</td>\n",
       "      <td>(26.55, 31.275]</td>\n",
       "    </tr>\n",
       "    <tr>\n",
       "      <th>536</th>\n",
       "      <td>45.0</td>\n",
       "      <td>12.0</td>\n",
       "      <td>26.5500</td>\n",
       "      <td>10.0</td>\n",
       "      <td>(42.0, 47.0]</td>\n",
       "      <td>(26.0, 26.55]</td>\n",
       "    </tr>\n",
       "    <tr>\n",
       "      <th>365</th>\n",
       "      <td>30.0</td>\n",
       "      <td>8.0</td>\n",
       "      <td>7.2500</td>\n",
       "      <td>1.0</td>\n",
       "      <td>(28.0, 30.0]</td>\n",
       "      <td>(0.0, 7.25]</td>\n",
       "    </tr>\n",
       "    <tr>\n",
       "      <th>294</th>\n",
       "      <td>24.0</td>\n",
       "      <td>5.0</td>\n",
       "      <td>7.8958</td>\n",
       "      <td>3.0</td>\n",
       "      <td>(23.0, 25.0]</td>\n",
       "      <td>(7.775, 7.896]</td>\n",
       "    </tr>\n",
       "    <tr>\n",
       "      <th>503</th>\n",
       "      <td>37.0</td>\n",
       "      <td>10.0</td>\n",
       "      <td>9.5875</td>\n",
       "      <td>4.0</td>\n",
       "      <td>(35.0, 38.0]</td>\n",
       "      <td>(8.158, 10.5]</td>\n",
       "    </tr>\n",
       "  </tbody>\n",
       "</table>\n",
       "</div>"
      ],
      "text/plain": [
       "      age  age_trf     fare  fare_trf    age_labels      fare_labels\n",
       "360  40.0     11.0  27.9000      10.0  (38.0, 42.0]  (26.55, 31.275]\n",
       "536  45.0     12.0  26.5500      10.0  (42.0, 47.0]    (26.0, 26.55]\n",
       "365  30.0      8.0   7.2500       1.0  (28.0, 30.0]      (0.0, 7.25]\n",
       "294  24.0      5.0   7.8958       3.0  (23.0, 25.0]   (7.775, 7.896]\n",
       "503  37.0     10.0   9.5875       4.0  (35.0, 38.0]    (8.158, 10.5]"
      ]
     },
     "execution_count": 11,
     "metadata": {},
     "output_type": "execute_result"
    }
   ],
   "source": [
    "output = pd.DataFrame({\n",
    "    'age':X_train['Age'],\n",
    "    'age_trf':X_train_trf[:,0],\n",
    "    'fare':X_train['Fare'],\n",
    "    'fare_trf':X_train_trf[:,1]\n",
    "})\n",
    "\n",
    "output['age_labels'] = pd.cut(x = X_train['Age'],\n",
    "                             bins = trf.named_transformers_['first'].bin_edges_[0].tolist())\n",
    "output['fare_labels'] = pd.cut(x = X_train['Fare'],\n",
    "                             bins = trf.named_transformers_['second'].bin_edges_[0].tolist())\n",
    "                             \n",
    "output.sample(5)                                                      \n",
    "                            "
   ]
  },
  {
   "cell_type": "code",
   "execution_count": 12,
   "id": "df45889a",
   "metadata": {},
   "outputs": [
    {
     "name": "stdout",
     "output_type": "stream",
     "text": [
      "The accuracy score after transformation is 0.6363636363636364\n"
     ]
    }
   ],
   "source": [
    "#@ Applying decisiontree after transformation\n",
    "clf = DecisionTreeClassifier()\n",
    "clf.fit(X_train_trf, y_train)\n",
    "y_pred2 = clf.predict(X_test_trf)\n",
    "acc_trf = accuracy_score(y_test, y_pred2)\n",
    "print(f'The accuracy score after transformation is {acc_trf}')"
   ]
  },
  {
   "cell_type": "code",
   "execution_count": 13,
   "id": "4aaef73f",
   "metadata": {},
   "outputs": [
    {
     "data": {
      "text/plain": [
       "0.6359154929577464"
      ]
     },
     "execution_count": 13,
     "metadata": {},
     "output_type": "execute_result"
    }
   ],
   "source": [
    "#@ finding cross/val/score\n",
    "X_trf = trf.fit_transform(X)\n",
    "(np.mean(cross_val_score(DecisionTreeClassifier(), X, y, cv = 10, scoring = 'accuracy')))"
   ]
  },
  {
   "cell_type": "code",
   "execution_count": 14,
   "id": "fe76dcfc",
   "metadata": {},
   "outputs": [
    {
     "name": "stdout",
     "output_type": "stream",
     "text": [
      "0.6344679186228481\n"
     ]
    },
    {
     "data": {
      "image/png": "[encoded data removed]",
      "text/plain": [
       "<Figure size 1008x288 with 2 Axes>"
      ]
     },
     "metadata": {
      "needs_background": "light"
     },
     "output_type": "display_data"
    },
    {
     "data": {
      "image/png": "[encoded data removed]",
      "text/plain": [
       "<Figure size 1008x288 with 2 Axes>"
      ]
     },
     "metadata": {
      "needs_background": "light"
     },
     "output_type": "display_data"
    }
   ],
   "source": [
    "def discretize(bins, strategy):\n",
    "    kbin_age = KBinsDiscretizer(n_bins = bins, encode = 'ordinal', strategy = strategy)\n",
    "    kbin_fare = KBinsDiscretizer(n_bins = bins, encode = 'ordinal', strategy = strategy)\n",
    "    \n",
    "    trf = ColumnTransformer([\n",
    "        ('first', kbin_age,[0]),\n",
    "        ('second', kbin_fare,[1])\n",
    "    ])\n",
    "    \n",
    "    X_trf = trf.fit_transform(X)           # training the data\n",
    "    \n",
    "    # checking by cross/val/score\n",
    "    print(np.mean(cross_val_score(DecisionTreeClassifier(), X, y, cv = 10, scoring = 'accuracy')))\n",
    "    \n",
    "    plt.figure(figsize = (14,4))\n",
    "    plt.subplot(121)\n",
    "    plt.hist(X['Age'])\n",
    "    plt.title(\"Before\")\n",
    "    \n",
    "    plt.subplot(122)\n",
    "    plt.hist(X_trf[:, 0], color = 'red')\n",
    "    plt.title(\"After\")\n",
    "    plt.show()\n",
    "    \n",
    "    plt.figure(figsize = (14,4))\n",
    "    plt.subplot(121)\n",
    "    plt.hist(X['Fare'])\n",
    "    plt.title(\"Before\")\n",
    "    \n",
    "    plt.subplot(122)\n",
    "    plt.hist(X_trf[:,1], color = 'red')\n",
    "    plt.title(\"Fare\")\n",
    "    plt.show()\n",
    "\n",
    "discretize(10, 'quantile')"
   ]
  },
  {
   "cell_type": "code",
   "execution_count": 15,
   "id": "bc60d28c",
   "metadata": {},
   "outputs": [
    {
     "name": "stdout",
     "output_type": "stream",
     "text": [
      "0.6275039123630672\n"
     ]
    },
    {
     "data": {
      "image/png": "[encoded data removed]",
      "text/plain": [
       "<Figure size 1008x288 with 2 Axes>"
      ]
     },
     "metadata": {
      "needs_background": "light"
     },
     "output_type": "display_data"
    },
    {
     "data": {
      "image/png": "[encoded data removed]",
      "text/plain": [
       "<Figure size 1008x288 with 2 Axes>"
      ]
     },
     "metadata": {
      "needs_background": "light"
     },
     "output_type": "display_data"
    }
   ],
   "source": [
    "discretize(10, 'kmeans')"
   ]
  },
  {
   "cell_type": "code",
   "execution_count": 16,
   "id": "8f200648",
   "metadata": {
    "scrolled": true
   },
   "outputs": [
    {
     "name": "stdout",
     "output_type": "stream",
     "text": [
      "0.6289319248826291\n"
     ]
    },
    {
     "data": {
      "image/png": "[encoded data removed]",
      "text/plain": [
       "<Figure size 1008x288 with 2 Axes>"
      ]
     },
     "metadata": {
      "needs_background": "light"
     },
     "output_type": "display_data"
    },
    {
     "data": {
      "image/png": "[encoded data removed]",
      "text/plain": [
       "<Figure size 1008x288 with 2 Axes>"
      ]
     },
     "metadata": {
      "needs_background": "light"
     },
     "output_type": "display_data"
    }
   ],
   "source": [
    "discretize(10, 'uniform')"
   ]
  },
  {
   "cell_type": "markdown",
   "id": "8cc9774a",
   "metadata": {},
   "source": [
    "## Custom/Domain Based Binning\n",
    "\n",
    "- It is the way of making bins by using the domain knowledge.\n",
    "\n",
    "example:\n",
    "\n",
    "    Let, us suppose if we want to seperate the age of people the we can  seperate them according to their age like:\n",
    "    {\n",
    "    [0-18] = 'Kids',\n",
    "    [18-60] = 'Adult',\n",
    "    [60-80] = 'Old'\n",
    "    }"
   ]
  }
 ],
 "metadata": {
  "kernelspec": {
   "display_name": "Python 3 (ipykernel)",
   "language": "python",
   "name": "python3"
  },
  "language_info": {
   "codemirror_mode": {
    "name": "ipython",
    "version": 3
   },
   "file_extension": ".py",
   "mimetype": "text/x-python",
   "name": "python",
   "nbconvert_exporter": "python",
   "pygments_lexer": "ipython3",
   "version": "3.10.0"
  }
 },
 "nbformat": 4,
 "nbformat_minor": 5
}
