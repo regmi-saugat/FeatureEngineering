{
 "cells": [
  {
   "cell_type": "markdown",
   "id": "a0b67c9e",
   "metadata": {},
   "source": [
    "## Production code using pipeline"
   ]
  },
  {
   "cell_type": "code",
   "execution_count": 1,
   "id": "17dfe927",
   "metadata": {},
   "outputs": [],
   "source": [
    "#@ Importing the library\n",
    "import pickle \n",
    "import numpy as np"
   ]
  },
  {
   "cell_type": "code",
   "execution_count": 2,
   "id": "b7a357d1",
   "metadata": {},
   "outputs": [],
   "source": [
    "pipe = pickle.load(open('pipe.pkl', 'rb'))"
   ]
  },
  {
   "cell_type": "code",
   "execution_count": 3,
   "id": "d6b09c5e",
   "metadata": {},
   "outputs": [],
   "source": [
    "#@ Assuming the user input\n",
    "test_input2 = np.array([2, 'male', 31.0, 0, 0, 10.5, 'S'], dtype = object).reshape(1,7)"
   ]
  },
  {
   "cell_type": "code",
   "execution_count": 4,
   "id": "622ed625",
   "metadata": {},
   "outputs": [
    {
     "name": "stderr",
     "output_type": "stream",
     "text": [
      "C:\\Python10\\lib\\site-packages\\sklearn\\base.py:450: UserWarning: X does not have valid feature names, but SimpleImputer was fitted with feature names\n",
      "  warnings.warn(\n",
      "C:\\Python10\\lib\\site-packages\\sklearn\\base.py:450: UserWarning: X does not have valid feature names, but SimpleImputer was fitted with feature names\n",
      "  warnings.warn(\n"
     ]
    },
    {
     "data": {
      "text/plain": [
       "array([0], dtype=int64)"
      ]
     },
     "execution_count": 4,
     "metadata": {},
     "output_type": "execute_result"
    }
   ],
   "source": [
    "pipe.predict(test_input2)"
   ]
  }
 ],
 "metadata": {
  "kernelspec": {
   "display_name": "Python 3 (ipykernel)",
   "language": "python",
   "name": "python3"
  },
  "language_info": {
   "codemirror_mode": {
    "name": "ipython",
    "version": 3
   },
   "file_extension": ".py",
   "mimetype": "text/x-python",
   "name": "python",
   "nbconvert_exporter": "python",
   "pygments_lexer": "ipython3",
   "version": "3.10.0"
  }
 },
 "nbformat": 4,
 "nbformat_minor": 5
}
